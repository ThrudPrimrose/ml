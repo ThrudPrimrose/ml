{
 "cells": [
  {
   "cell_type": "code",
   "execution_count": 1,
   "id": "fe90a206",
   "metadata": {},
   "outputs": [],
   "source": [
    "# Load data\n",
    "import csv\n",
    "import numpy as np\n",
    "\n",
    "X = np.loadtxt('data/hitters.x.csv', delimiter=',', skiprows=1)\n",
    "\n",
    "with open('data/hitters.x.csv','r') as f:\n",
    "    X_colnames = next(csv.reader(f))\n",
    "    \n",
    "y = np.loadtxt('data/hitters.y.csv', delimiter=',', skiprows=1)"
   ]
  },
  {
   "cell_type": "markdown",
   "id": "19644ec0",
   "metadata": {},
   "source": [
    "## Why scale data to mean 0 and variance 1\n",
    "\n",
    "We scale the data such that: $E[X] = 0$ and $Var[X] = E[X^2] - E[X]^2 = E[X^2] = 1$\n",
    "\n",
    "1. Calculating variance is easier\n",
    "2. Adding multiple random variables have the same impact\n",
    "3. Easier to compare when variables are measured in different units\n"
   ]
  },
  {
   "cell_type": "code",
   "execution_count": 2,
   "id": "1af9afa8",
   "metadata": {},
   "outputs": [],
   "source": [
    "#print(X_colnames)\n",
    "\n",
    "#print(X)\n",
    "\n",
    "for column in X.T:\n",
    "    Xmean = np.mean(column)\n",
    "    Xstd = np.std(column)\n",
    "    column -= Xmean\n",
    "    column /= Xstd\n",
    "\n",
    "# Check the transformations are ok\n",
    "for column in X.T:\n",
    "    #print('mean:', np.mean(column))\n",
    "    assert np.mean(column) <0.01 and np.mean(column) > -0.01\n",
    "    #print('variance:', np.var(column))\n",
    "    assert np.var(column) < 1.01 and np.var(column) > 0.99\n",
    "    \n",
    "#print(X)"
   ]
  },
  {
   "cell_type": "code",
   "execution_count": 3,
   "id": "6af8b243",
   "metadata": {},
   "outputs": [],
   "source": [
    "# Add ones before to normalized X array and create  [1|X]\n",
    "\n",
    "Xh = np.concatenate( (np.ones(X.shape[0])[:, np.newaxis], X), axis=1)\n",
    "#print(Xh)\n",
    "\n",
    "#inv = np.linalg.inv(Xh.T@Xh)\n",
    "#print(inv)"
   ]
  },
  {
   "cell_type": "code",
   "execution_count": 13,
   "id": "197231ea",
   "metadata": {},
   "outputs": [],
   "source": [
    "# Generate equidistant points\n",
    "points = np.linspace(10**-3,10**7,num=100)\n",
    "# take log of them\n",
    "points_log = np.log(points)\n",
    "\n",
    "from sklearn import linear_model\n",
    "\n",
    "# array for normes of the coefficients\n",
    "coef_norms = np.zeros(points.size, dtype=float)\n",
    "\n",
    "rols = linear_model.LinearRegression().fit(X,y)\n",
    "#print(\"OLS: \", rols.coef_)\n",
    "\n",
    "for i in range(len(points)):\n",
    "    # ridge regression with the next lambda\n",
    "    reg = linear_model.Ridge(alpha=points[i])\n",
    "    reg = reg.fit(X,y)\n",
    "\n",
    "    #print(reg.coef_)\n",
    "    norm = np.linalg.norm(reg.coef_)\n",
    "    #print(\"Ridge: \", norm)\n",
    "    coef_norms[i] = norm\n",
    "    #print(reg.intercept_)\n",
    "\n",
    "# take logs of norms\n",
    "coef_norms_log = np.log(coef_norms)\n",
    "\n",
    "# Printed coefficient values are for sub-exercise 4"
   ]
  },
  {
   "cell_type": "code",
   "execution_count": 5,
   "id": "8538c35e",
   "metadata": {},
   "outputs": [
    {
     "data": {
      "text/plain": [
       "<matplotlib.collections.PathCollection at 0x7f178b558f90>"
      ]
     },
     "execution_count": 5,
     "metadata": {},
     "output_type": "execute_result"
    },
    {
     "data": {
      "image/png": "[encoded data removed]",
      "text/plain": [
       "<Figure size 432x288 with 1 Axes>"
      ]
     },
     "metadata": {
      "needs_background": "light"
     },
     "output_type": "display_data"
    }
   ],
   "source": [
    "# Create the log log plot\n",
    "import matplotlib\n",
    "import matplotlib.pyplot as plt\n",
    "\n",
    "#print(points)\n",
    "#print(coef_norms)\n",
    "\n",
    "plt.scatter(points,coef_norms)\n"
   ]
  },
  {
   "cell_type": "code",
   "execution_count": 6,
   "id": "2348f967",
   "metadata": {},
   "outputs": [
    {
     "data": {
      "text/plain": [
       "<matplotlib.collections.PathCollection at 0x7f178b514550>"
      ]
     },
     "execution_count": 6,
     "metadata": {},
     "output_type": "execute_result"
    },
    {
     "data": {
      "image/png": "[encoded data removed]",
      "text/plain": [
       "<Figure size 432x288 with 1 Axes>"
      ]
     },
     "metadata": {
      "needs_background": "light"
     },
     "output_type": "display_data"
    }
   ],
   "source": [
    "plt.scatter(points_log,coef_norms_log)"
   ]
  },
  {
   "cell_type": "markdown",
   "id": "ebeabbd4",
   "metadata": {},
   "source": [
    "## K-Fold Cross Validation\n",
    "\n",
    "1. Shuffle dataset\n",
    "2. Split dataset into k groups\n",
    "3. For each unique group:\n",
    "    1. The group is taken as the test data set\n",
    "    2. Remaining groups are the training data set\n",
    "    3. Evaluate, save the score"
   ]
  },
  {
   "cell_type": "code",
   "execution_count": 7,
   "id": "e797ae46",
   "metadata": {},
   "outputs": [],
   "source": [
    "# 5-Fold cross validation\n",
    "\n",
    "datalen = y.size\n",
    "indices = np.zeros(datalen, dtype=int)\n",
    "\n",
    "\n",
    "for i in range(datalen):\n",
    "    indices[i] = i\n",
    "    \n",
    "#shuffle indices\n",
    "np.random.shuffle(indices)\n",
    "\n",
    "# Each group has the same length first group is the first part etc.\n",
    "grouplen = datalen//5\n",
    "# last group gets some extra\n",
    "excess = datalen % 5\n",
    "\n",
    "#print(grouplen)\n",
    "#print(excess)\n",
    "\n",
    "# Split into 5 groups last group having a bit more elements\n",
    "groupy = np.zeros((4,grouplen))\n",
    "groupx = np.zeros((4,grouplen,19))\n",
    "\n",
    "lastgroupy = np.zeros(grouplen+excess)\n",
    "lastgroupx = np.zeros((grouplen+excess,19))\n",
    "\n",
    "for k in range(4):\n",
    "    for i in range(grouplen):\n",
    "        groupy[k][i]=y[indices[k*grouplen + i]]\n",
    "        groupx[k][i]=X[indices[k*grouplen + i]]\n",
    "    \n",
    "for i in range(4*grouplen, 5*grouplen + excess):\n",
    "    lastgroupy[i - 4*grouplen] = y[indices[i]]\n",
    "    lastgroupx[i - 4*grouplen] = X[indices[i]]\n",
    "    \n",
    "#print(groupy[1])\n",
    "#print(groupx[1])\n",
    "\n",
    "#print(lastgroupy)\n",
    "#print(lastgroupx)\n",
    "\n",
    "errors = np.zeros(100)\n",
    "\n",
    "# for every i\n",
    "for l in range(100):\n",
    "    # Merge the groups and fit the data\n",
    "    for k in range(4):\n",
    "        #print(4)\n",
    "        DX = lastgroupx\n",
    "        Dy = lastgroupy\n",
    "        for i in range(k):\n",
    "            #print(i)\n",
    "            DX = np.concatenate((DX,groupx[i]),axis=0)\n",
    "            Dy = np.concatenate((Dy,groupy[i]),axis=0)\n",
    "        for j in range(k+1,4):\n",
    "            #print(j)\n",
    "            DX = np.concatenate((DX,groupx[j]),axis=0)\n",
    "            Dy = np.concatenate((Dy,groupy[j]),axis=0)\n",
    "\n",
    "        #print(DX)\n",
    "        #print(Dy)\n",
    "        #print(\"============\")\n",
    "\n",
    "        reg = linear_model.Ridge(alpha=points[l])\n",
    "        reg = reg.fit(DX,Dy)\n",
    "\n",
    "        y_acc = 0.0\n",
    "        for i in range(grouplen):\n",
    "            y_pred = reg.predict(groupx[k][i].reshape(1, -1))\n",
    "            y_acc += (y_pred - groupy[k][i]) * (y_pred - groupy[k][i])\n",
    "\n",
    "        y_acc /= grouplen\n",
    "        #print(y_acc)\n",
    "        errors[l] += y_acc\n",
    "        #now test it on our main group\n",
    "\n",
    "    DX = np.concatenate((groupx[0],groupx[1],groupx[2],groupx[3]),axis=0)\n",
    "    Dy = np.concatenate((groupy[0],groupy[1],groupy[2],groupy[3]),axis=0)\n",
    "\n",
    "    reg = linear_model.Ridge(alpha=points[l])\n",
    "    reg = reg.fit(DX,Dy)\n",
    "\n",
    "    y_acc = 0.0\n",
    "    for i in range(grouplen+excess):\n",
    "        y_pred = reg.predict(lastgroupx[i].reshape(1, -1))\n",
    "        y_acc += (y_pred -lastgroupy[i]) * (y_pred - lastgroupy[i])\n",
    "\n",
    "    y_acc /= (grouplen+excess)\n",
    "    #print(y_acc)\n",
    "    errors[l] += y_acc\n",
    "\n",
    "    errors[l] /= 5\n",
    "\n",
    "    #print(errors[l])\n",
    "    \n",
    "    "
   ]
  },
  {
   "cell_type": "code",
   "execution_count": 8,
   "id": "0b6a9e10",
   "metadata": {},
   "outputs": [
    {
     "data": {
      "text/plain": [
       "<matplotlib.collections.PathCollection at 0x7f178a3e91d0>"
      ]
     },
     "execution_count": 8,
     "metadata": {},
     "output_type": "execute_result"
    },
    {
     "data": {
      "image/png": "[encoded data removed]",
      "text/plain": [
       "<Figure size 432x288 with 1 Axes>"
      ]
     },
     "metadata": {
      "needs_background": "light"
     },
     "output_type": "display_data"
    }
   ],
   "source": [
    "# Plot errors as a function\n",
    "plt.scatter(points,errors)"
   ]
  },
  {
   "cell_type": "code",
   "execution_count": 9,
   "id": "c81450ff",
   "metadata": {},
   "outputs": [
    {
     "data": {
      "text/plain": [
       "[<matplotlib.lines.Line2D at 0x7f178a3c84d0>]"
      ]
     },
     "execution_count": 9,
     "metadata": {},
     "output_type": "execute_result"
    },
    {
     "data": {
      "image/png": "[encoded data removed]",
      "text/plain": [
       "<Figure size 432x288 with 1 Axes>"
      ]
     },
     "metadata": {
      "needs_background": "light"
     },
     "output_type": "display_data"
    }
   ],
   "source": [
    "plt.plot(points,errors)"
   ]
  },
  {
   "cell_type": "code",
   "execution_count": 10,
   "id": "070e4d53",
   "metadata": {},
   "outputs": [
    {
     "name": "stdout",
     "output_type": "stream",
     "text": [
      "[-291.07689885  337.76983981   37.817637    -60.51643708  -26.96167438\n",
      "  135.05922913  -16.72927386 -390.81338172   86.882135    -14.05166346\n",
      "  480.42919877  260.45660149 -213.84040958   31.24937094  -58.4169906\n",
      "   78.76124192   53.72488332  -22.16403075  -12.35251465]\n"
     ]
    }
   ],
   "source": [
    "# Since the smallest value is has the least errors\n",
    "# Fit one last time and report coefficients\n",
    "\n",
    "reg = linear_model.Ridge(alpha=points[0])\n",
    "reg = reg.fit(X,y)\n",
    "\n",
    "print(reg.coef_)"
   ]
  },
  {
   "cell_type": "code",
   "execution_count": 11,
   "id": "680d00eb",
   "metadata": {},
   "outputs": [],
   "source": [
    "#Since all x and y are normalized we dont need to think about the units\n",
    "# highest values are on intex 0,1,7,10,11,12\n",
    "\n",
    "# this means focus to keep AtBat, Years, CRBI low and Hits, HmRuns and Cruns high,\n",
    "# so focus on hitting and running? :D"
   ]
  },
  {
   "cell_type": "code",
   "execution_count": null,
   "id": "0854f0a4",
   "metadata": {},
   "outputs": [],
   "source": []
  }
 ],
 "metadata": {
  "kernelspec": {
   "display_name": "Python 3",
   "language": "python",
   "name": "python3"
  },
  "language_info": {
   "codemirror_mode": {
    "name": "ipython",
    "version": 3
   },
   "file_extension": ".py",
   "mimetype": "text/x-python",
   "name": "python",
   "nbconvert_exporter": "python",
   "pygments_lexer": "ipython3",
   "version": "3.7.9"
  }
 },
 "nbformat": 4,
 "nbformat_minor": 5
}
